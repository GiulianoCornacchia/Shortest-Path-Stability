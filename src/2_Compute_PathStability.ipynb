{
 "cells": [
  {
   "cell_type": "markdown",
   "id": "77140dcf-20da-4a6a-bdec-48d10596ddd2",
   "metadata": {},
   "source": [
    "# Notebook: Compute Shortest Path Stability\n",
    "\n",
    "---\n",
    "\n",
    "## Overview\n",
    "This notebook runs the path stability analysis for a selected city, based on the method described in the article *“The Path is the Goal: A Study on the Nature and Effects of Shortest-Path Stability Under Perturbation of Destination.”*\n",
    "\n",
    "It simulates small destination displacements and evaluates how much shortest paths change in response. The goal is to measure **path stability**, a key indicator of the network's structural resilience and adaptability.\n",
    "\n",
    "---\n",
    "\n",
    "## Objectives\n",
    "1. **Generate OD Pairs via Radial Sampling**  \n",
    "   Use concentric circles centered at the city center to systematically sample origin-destination (OD) pairs.\n",
    "\n",
    "2. **Simulate Destination Perturbations**  \n",
    "   Displace each destination slightly using a set of displacement magnitudes and angular sectors.\n",
    "\n",
    "3. **Compute Shortest Paths**  \n",
    "   Calculate the shortest path for the original and perturbed OD pairs using the road network.\n",
    "\n",
    "4. **Evaluate Path Stability**  \n",
    "   Measure the similarity between original and perturbed paths using the weighted Jaccard index.\n",
    "\n",
    "5. **Store Results**  \n",
    "   Save the computed paths, sampling metadata, and stability scores for further analysis.\n",
    "\n",
    "---\n",
    "\n",
    "## Configuration and Parameters\n",
    "The following parameters must be provided as command-line arguments or configured at runtime:\n",
    "\n",
    "- `--city`: Name of the city.\n",
    "- `--lat`, `--lng`: Latitude and longitude of the city center.\n",
    "- `--identifier`: Unique identifier for this experiment (used for output folder naming).\n",
    "- `--rfrom`, `--rto`, `--rstep`: Range of radial distances (in km) used for sampling.\n",
    "- `--ncircles`: Number of evenly spaced points (samples) per circle.\n",
    "- `--thdist`: Minimum allowed distance between samples (in km).\n",
    "- `--perturbations`: Dash-separated list of displacement boundaries in meters (e.g., 0-100-200-300).\n",
    "    Each pair of consecutive values defines a displacement interval used to perturb destinations.\n",
    "    For example, 0-100-200-300 results in intervals: [[0, 100], [100, 200], [200, 300]].\n",
    "- `--nsectors`: Number of angular sectors used to select perturbed destinations (default: 8).\n",
    "- `--saveroutes`: Whether to save the generated shortest paths (0 = no, 1 = yes).\n",
    "- `--njobs`: Number of parallel jobs for path computation.\n",
    "\n",
    "---\n",
    "\n",
    "## Output\n",
    "The experiment produces the following outputs:\n",
    "\n",
    "- **Generated Routes (`generated_routes.lz4`)**: Compressed dictionary of shortest paths to perturbed destinations.\n",
    "- **Stability Scores (`weighted_jaccards.json`)**: Dictionary of weighted Jaccard similarity values for each OD pair.\n",
    "- **Sampling Metadata (`sampling_info.json`)**: Full metadata on sampled nodes and OD pairs.\n",
    "- **Radial Sampling Visualization (`fig_sampling.pdf`)**: Plot showing radial sampling layout and rejected points."
   ]
  },
  {
   "cell_type": "code",
   "execution_count": null,
   "id": "c8a197cd-402b-4d5d-9bc2-e20cf7b7ad2e",
   "metadata": {},
   "outputs": [],
   "source": [
    "from sps_utils import compute_sps_city"
   ]
  },
  {
   "cell_type": "markdown",
   "id": "b9d15e70-febe-4a33-999a-81e4559179da",
   "metadata": {},
   "source": [
    "### 1. Setting the Experiments"
   ]
  },
  {
   "cell_type": "markdown",
   "id": "f3531a3b-10d6-406a-8423-92fc5c70ab98",
   "metadata": {},
   "source": [
    "#### 1.1 Parameters"
   ]
  },
  {
   "cell_type": "code",
   "execution_count": null,
   "id": "536d7b1a-6c68-45d3-96a9-b235a9d97f07",
   "metadata": {},
   "outputs": [],
   "source": [
    "# Experiment ID\n",
    "exp_id = \"sps_pisa\"\n",
    "\n",
    "# City metadata\n",
    "city_name = \"pisa\"\n",
    "city_center = (43.715906, 10.401866)\n",
    "\n",
    "# Radial sampling parameters\n",
    "min_radius_km = 1\n",
    "max_radius_km = 10\n",
    "radius_step_km = 1\n",
    "n_samples_circle = 6  # Samples per radius circle\n",
    "th_distance_km = 0.5  # Minimum allowed distance between sampled points\n",
    "\n",
    "# Perturbation configuration\n",
    "perturbation_intervals = \"0-100-200-300\"  # Defines intervals: [[0,100], [100,200], [200,300]]\n",
    "n_sectors = 8  # Number of angular sectors per ring for destination displacement\n",
    "\n",
    "# Computation settings\n",
    "save_routes = 1  # Whether to save generated shortest paths\n",
    "njobs = 4        # Number of parallel processes\n",
    "\n",
    "# Output base directory\n",
    "directory_path = '../data/results/'\n"
   ]
  },
  {
   "cell_type": "markdown",
   "id": "4f9541db-5716-48b7-8619-ff2c2bd53e0d",
   "metadata": {},
   "source": [
    "#### 1.2 Launch the execution"
   ]
  },
  {
   "cell_type": "code",
   "execution_count": null,
   "id": "a4f47b49-d9e7-409a-9e33-b525cc7c484d",
   "metadata": {},
   "outputs": [],
   "source": [
    "# Call the SPS computation\n",
    "\n",
    "compute_sps_city(\n",
    "    city=city_name,\n",
    "    lat=city_center[0],\n",
    "    lng=city_center[1],\n",
    "    exp_id=exp_id,\n",
    "    rfrom=min_radius_km,\n",
    "    rto=max_radius_km,\n",
    "    rstep=radius_step_km,\n",
    "    ncircles=n_samples_circle,\n",
    "    thdist=th_distance_km,\n",
    "    perturbations=perturbation_intervals,\n",
    "    nsectors=n_sectors,\n",
    "    saveroutes=save_routes,\n",
    "    njobs=njobs\n",
    ")"
   ]
  }
 ],
 "metadata": {
  "kernelspec": {
   "display_name": "Python 3 (ipykernel)",
   "language": "python",
   "name": "python3"
  },
  "language_info": {
   "codemirror_mode": {
    "name": "ipython",
    "version": 3
   },
   "file_extension": ".py",
   "mimetype": "text/x-python",
   "name": "python",
   "nbconvert_exporter": "python",
   "pygments_lexer": "ipython3",
   "version": "3.9.18"
  }
 },
 "nbformat": 4,
 "nbformat_minor": 5
}
